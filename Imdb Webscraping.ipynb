{
 "cells": [
  {
   "cell_type": "code",
   "execution_count": 14,
   "id": "f037f8b7",
   "metadata": {},
   "outputs": [],
   "source": [
    "import requests\n",
    "from bs4 import BeautifulSoup\n",
    "import pandas as pd"
   ]
  },
  {
   "cell_type": "code",
   "execution_count": 15,
   "id": "f923b961",
   "metadata": {},
   "outputs": [],
   "source": [
    "TitleName=[]\n",
    "Gross=[]\n",
    "Weekend=[]\n",
    "Week=[]"
   ]
  },
  {
   "cell_type": "code",
   "execution_count": 16,
   "id": "6878b17a",
   "metadata": {},
   "outputs": [
    {
     "name": "stdout",
     "output_type": "stream",
     "text": [
      "Hi! Explore the BoxofficeMojo Site :)\n"
     ]
    }
   ],
   "source": [
    "response = requests.get('https://www.boxofficemojo.com/year/world/2024', timeout=10)\n",
    "if response.status_code == 200:\n",
    "    print('Hi! Explore the BoxofficeMojo Site :)')\n",
    "else:\n",
    "    print(f'The error {response.status_code} occurred')"
   ]
  },
  {
   "cell_type": "code",
   "execution_count": 9,
   "id": "64ddfa9b",
   "metadata": {},
   "outputs": [
    {
     "name": "stdout",
     "output_type": "stream",
     "text": [
      "[]\n"
     ]
    }
   ],
   "source": []
  },
  {
   "cell_type": "code",
   "execution_count": 41,
   "id": "9f7038cf",
   "metadata": {},
   "outputs": [
    {
     "name": "stdout",
     "output_type": "stream",
     "text": [
      "8845\n",
      "8845\n",
      "8845\n",
      "8845\n",
      "8845\n"
     ]
    }
   ],
   "source": [
    "import requests\n",
    "from bs4 import BeautifulSoup\n",
    "\n",
    "Title = []\n",
    "WorldWide = []\n",
    "Domestic = []\n",
    "Foreign = []\n",
    "Yr=[]\n",
    "\n",
    "for year in range(2024, 1976, -1):  # Loop from 2024 to 1975\n",
    "    url = f'https://www.boxofficemojo.com/year/world/{year}/'\n",
    "    response = requests.get(url)\n",
    "    html_content = response.text\n",
    "\n",
    "    soup = BeautifulSoup(html_content, \"html.parser\")\n",
    "    tables = soup.find_all(\"table\", class_=\"mojo-body-table\")\n",
    "\n",
    "    if tables:\n",
    "        for table in tables:\n",
    "            rows = table.find_all(\"tr\")\n",
    "            for row in rows[1:]:  # skipping the header row\n",
    "                cols = row.find_all(\"td\")\n",
    "                if len(cols) >= 6:  # Ensure there are enough columns\n",
    "                    Yr.append(year)\n",
    "                    Title.append(cols[1].text.strip())  # Index 1 corresponds to the Release Group column\n",
    "                    WorldWide.append(cols[2].text.strip())   # Index 2 corresponds to the Worldwide column\n",
    "                    Domestic.append(cols[3].text.strip())  # Index 3 corresponds to the Domestic column\n",
    "                    Foreign.append(cols[5].text.strip()) # Index 5 corresponds to the Foreign column\n",
    "\n",
    "                    #print(f\"Year: {year}, Title: {title}, WorldWide: {ww}, Domestic: {dom}, Foreign: {foreign}\")\n",
    "                else:\n",
    "                    print(\"Some data is missing in this row.\")\n",
    "    else:\n",
    "        print(f\"Table not found for the year {year}\")\n",
    "\n",
    "# Check the length of each list to ensure data consistency\n",
    "print(len(Yr))\n",
    "print(len(Title))\n",
    "print(len(WorldWide))\n",
    "print(len(Domestic))\n",
    "print(len(Foreign))"
   ]
  },
  {
   "cell_type": "code",
   "execution_count": 42,
   "id": "4a338f5f",
   "metadata": {},
   "outputs": [],
   "source": [
    "df=pd.DataFrame({'Movie Title':Title, 'World Wide':WorldWide, 'Deomestic':Domestic, 'Foreign':Foreign})\n",
    "df.to_csv('Boxoffice.csv', index=False)"
   ]
  },
  {
   "cell_type": "code",
   "execution_count": 45,
   "id": "b5877bca",
   "metadata": {},
   "outputs": [
    {
     "data": {
      "text/html": [
       "<div>\n",
       "<style scoped>\n",
       "    .dataframe tbody tr th:only-of-type {\n",
       "        vertical-align: middle;\n",
       "    }\n",
       "\n",
       "    .dataframe tbody tr th {\n",
       "        vertical-align: top;\n",
       "    }\n",
       "\n",
       "    .dataframe thead th {\n",
       "        text-align: right;\n",
       "    }\n",
       "</style>\n",
       "<table border=\"1\" class=\"dataframe\">\n",
       "  <thead>\n",
       "    <tr style=\"text-align: right;\">\n",
       "      <th></th>\n",
       "      <th>Movie Title</th>\n",
       "      <th>World Wide</th>\n",
       "      <th>Deomestic</th>\n",
       "      <th>Foreign</th>\n",
       "    </tr>\n",
       "  </thead>\n",
       "  <tbody>\n",
       "    <tr>\n",
       "      <th>0</th>\n",
       "      <td>Dune: Part Two</td>\n",
       "      <td>$685,338,583</td>\n",
       "      <td>$272,938,583</td>\n",
       "      <td>$412,400,000</td>\n",
       "    </tr>\n",
       "    <tr>\n",
       "      <th>1</th>\n",
       "      <td>Kung Fu Panda 4</td>\n",
       "      <td>$455,494,113</td>\n",
       "      <td>$174,560,445</td>\n",
       "      <td>$280,933,668</td>\n",
       "    </tr>\n",
       "    <tr>\n",
       "      <th>2</th>\n",
       "      <td>Godzilla x Kong: The New Empire</td>\n",
       "      <td>$440,262,286</td>\n",
       "      <td>$160,362,286</td>\n",
       "      <td>$279,900,000</td>\n",
       "    </tr>\n",
       "    <tr>\n",
       "      <th>3</th>\n",
       "      <td>Bob Marley: One Love</td>\n",
       "      <td>$176,976,439</td>\n",
       "      <td>$96,676,439</td>\n",
       "      <td>$80,300,000</td>\n",
       "    </tr>\n",
       "    <tr>\n",
       "      <th>4</th>\n",
       "      <td>Ghostbusters: Frozen Empire</td>\n",
       "      <td>$160,767,639</td>\n",
       "      <td>$97,767,639</td>\n",
       "      <td>$63,000,000</td>\n",
       "    </tr>\n",
       "    <tr>\n",
       "      <th>...</th>\n",
       "      <td>...</td>\n",
       "      <td>...</td>\n",
       "      <td>...</td>\n",
       "      <td>...</td>\n",
       "    </tr>\n",
       "    <tr>\n",
       "      <th>8840</th>\n",
       "      <td>Joseph Andrews</td>\n",
       "      <td>$839,865</td>\n",
       "      <td>$839,865</td>\n",
       "      <td>-</td>\n",
       "    </tr>\n",
       "    <tr>\n",
       "      <th>8841</th>\n",
       "      <td>Citizens Band</td>\n",
       "      <td>$815,530</td>\n",
       "      <td>$815,530</td>\n",
       "      <td>-</td>\n",
       "    </tr>\n",
       "    <tr>\n",
       "      <th>8842</th>\n",
       "      <td>Fraternity Row</td>\n",
       "      <td>$290,674</td>\n",
       "      <td>$290,674</td>\n",
       "      <td>-</td>\n",
       "    </tr>\n",
       "    <tr>\n",
       "      <th>8843</th>\n",
       "      <td>Sorcerer</td>\n",
       "      <td>$651</td>\n",
       "      <td>-</td>\n",
       "      <td>-</td>\n",
       "    </tr>\n",
       "    <tr>\n",
       "      <th>8844</th>\n",
       "      <td>1900</td>\n",
       "      <td>$360</td>\n",
       "      <td>-</td>\n",
       "      <td>-</td>\n",
       "    </tr>\n",
       "  </tbody>\n",
       "</table>\n",
       "<p>8845 rows × 4 columns</p>\n",
       "</div>"
      ],
      "text/plain": [
       "                          Movie Title    World Wide     Deomestic  \\\n",
       "0                      Dune: Part Two  $685,338,583  $272,938,583   \n",
       "1                     Kung Fu Panda 4  $455,494,113  $174,560,445   \n",
       "2     Godzilla x Kong: The New Empire  $440,262,286  $160,362,286   \n",
       "3                Bob Marley: One Love  $176,976,439   $96,676,439   \n",
       "4         Ghostbusters: Frozen Empire  $160,767,639   $97,767,639   \n",
       "...                               ...           ...           ...   \n",
       "8840                   Joseph Andrews      $839,865      $839,865   \n",
       "8841                    Citizens Band      $815,530      $815,530   \n",
       "8842                   Fraternity Row      $290,674      $290,674   \n",
       "8843                         Sorcerer          $651             -   \n",
       "8844                             1900          $360             -   \n",
       "\n",
       "           Foreign  \n",
       "0     $412,400,000  \n",
       "1     $280,933,668  \n",
       "2     $279,900,000  \n",
       "3      $80,300,000  \n",
       "4      $63,000,000  \n",
       "...            ...  \n",
       "8840             -  \n",
       "8841             -  \n",
       "8842             -  \n",
       "8843             -  \n",
       "8844             -  \n",
       "\n",
       "[8845 rows x 4 columns]"
      ]
     },
     "execution_count": 45,
     "metadata": {},
     "output_type": "execute_result"
    }
   ],
   "source": [
    "df"
   ]
  },
  {
   "cell_type": "code",
   "execution_count": null,
   "id": "3bdd1424",
   "metadata": {},
   "outputs": [],
   "source": []
  }
 ],
 "metadata": {
  "kernelspec": {
   "display_name": "Python 3 (ipykernel)",
   "language": "python",
   "name": "python3"
  },
  "language_info": {
   "codemirror_mode": {
    "name": "ipython",
    "version": 3
   },
   "file_extension": ".py",
   "mimetype": "text/x-python",
   "name": "python",
   "nbconvert_exporter": "python",
   "pygments_lexer": "ipython3",
   "version": "3.11.5"
  }
 },
 "nbformat": 4,
 "nbformat_minor": 5
}
